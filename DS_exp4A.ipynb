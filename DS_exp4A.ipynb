{
  "nbformat": 4,
  "nbformat_minor": 0,
  "metadata": {
    "colab": {
      "provenance": []
    },
    "kernelspec": {
      "name": "python3",
      "display_name": "Python 3"
    },
    "language_info": {
      "name": "python"
    }
  },
  "cells": [
    {
      "cell_type": "markdown",
      "source": [
        "Import Required Libraries"
      ],
      "metadata": {
        "id": "4rLyyNXt3z8k"
      }
    },
    {
      "cell_type": "code",
      "source": [
        "import pandas as pd\n",
        "import nltk, re\n",
        "from sklearn.feature_extraction.text import TfidfVectorizer\n",
        "from sklearn.metrics.pairwise import cosine_similarity"
      ],
      "metadata": {
        "id": "iJFytar_3osm"
      },
      "execution_count": null,
      "outputs": []
    },
    {
      "cell_type": "markdown",
      "source": [
        " Import NLTK Resources"
      ],
      "metadata": {
        "id": "gJP6Y0QV366E"
      }
    },
    {
      "cell_type": "code",
      "source": [
        "nltk.download('stopwords')\n",
        "from nltk.corpus import stopwords\n",
        "stop_words = set(stopwords.words(\"english\"))"
      ],
      "metadata": {
        "colab": {
          "base_uri": "https://localhost:8080/"
        },
        "id": "PwxP96DQ34H0",
        "outputId": "fccfe464-bb31-4740-99f3-80a9d5a5a1e6"
      },
      "execution_count": null,
      "outputs": [
        {
          "output_type": "stream",
          "name": "stderr",
          "text": [
            "[nltk_data] Downloading package stopwords to /root/nltk_data...\n",
            "[nltk_data]   Package stopwords is already up-to-date!\n"
          ]
        }
      ]
    },
    {
      "cell_type": "markdown",
      "source": [
        "Load Dataset (upload CSV in Colab first)"
      ],
      "metadata": {
        "id": "kx9nAEtR3-ez"
      }
    },
    {
      "cell_type": "code",
      "source": [
        "df = pd.read_csv(\"Reviews.csv\", on_bad_lines=\"skip\", engine=\"python\")\n",
        "reviews = df['Text'].dropna().head(10000)"
      ],
      "metadata": {
        "id": "asvlT2lZ4Amk"
      },
      "execution_count": null,
      "outputs": []
    },
    {
      "cell_type": "markdown",
      "source": [
        "Preprocessing Function"
      ],
      "metadata": {
        "id": "sGRkr6nP4vMz"
      }
    },
    {
      "cell_type": "code",
      "source": [
        "def preprocess(text):\n",
        "    text = text.lower()\n",
        "    text = re.sub(r'[^a-z\\s]', '', text)  # remove punctuation\n",
        "    tokens = [w for w in text.split() if w not in stop_words]\n",
        "    return \" \".join(tokens)"
      ],
      "metadata": {
        "id": "xDenkDCI4wlM"
      },
      "execution_count": null,
      "outputs": []
    },
    {
      "cell_type": "markdown",
      "source": [
        " Apply preprocessing"
      ],
      "metadata": {
        "id": "KxrnVeTa4zTE"
      }
    },
    {
      "cell_type": "code",
      "source": [
        "cleaned = reviews.apply(preprocess)\n",
        "\n",
        "vectorizer = TfidfVectorizer()\n",
        "X = vectorizer.fit_transform(cleaned)"
      ],
      "metadata": {
        "id": "UuTNSpoZ44FE"
      },
      "execution_count": null,
      "outputs": []
    },
    {
      "cell_type": "markdown",
      "source": [
        "Function to query"
      ],
      "metadata": {
        "id": "1Ao7v2IZ48gj"
      }
    },
    {
      "cell_type": "code",
      "source": [
        "def search_reviews(query, k=5):\n",
        "    q = preprocess(query)\n",
        "    q_vec = vectorizer.transform([q])\n",
        "    sims = cosine_similarity(q_vec, X).flatten()\n",
        "    idx = sims.argsort()[-k:][::-1]\n",
        "    for i in idx:\n",
        "        print(f\"\\nOriginal: {reviews.iloc[i]}\\nCleaned: {cleaned.iloc[i]}\")"
      ],
      "metadata": {
        "id": "6dirt-2c48_T"
      },
      "execution_count": null,
      "outputs": []
    },
    {
      "cell_type": "markdown",
      "source": [
        " Query Examples"
      ],
      "metadata": {
        "id": "norOoXcn5ADz"
      }
    },
    {
      "cell_type": "code",
      "source": [
        "print(\"Query 1: great product with fast shipping\")\n",
        "search_reviews(\"great product with fast shipping\")\n",
        "\n",
        "print(\"\\nQuery 2: disappointed\")\n",
        "search_reviews(\"disappointed\")"
      ],
      "metadata": {
        "colab": {
          "base_uri": "https://localhost:8080/"
        },
        "id": "eInVB9ft5BLk",
        "outputId": "570dcd37-d245-4f28-bf42-ac2aff0b009d"
      },
      "execution_count": null,
      "outputs": [
        {
          "output_type": "stream",
          "name": "stdout",
          "text": [
            "Query 1: great product with fast shipping\n",
            "\n",
            "Original: Enjoyed the product and they also provided very fast shipping.  I'm about out and need to order more.\n",
            "Cleaned: enjoyed product also provided fast shipping im need order\n",
            "\n",
            "Original: The tea is good and fresh. We enjoy it. The shipping is fast and cost is reasonable.<br />I recommend this product.\n",
            "Cleaned: tea good fresh enjoy shipping fast cost reasonablebr recommend product\n",
            "\n",
            "Original: My daughter lives in Hawaii and sent me some great coffee from there. I have a Keurig and  was not sure how to use the new coffee. I got these fast fast and now am using my Hawaiian coffee. Great product.\n",
            "Cleaned: daughter lives hawaii sent great coffee keurig sure use new coffee got fast fast using hawaiian coffee great product\n",
            "\n",
            "Original: The energy drink is a great product. The shipping price is crazy tho. I paid more for the shipping then both products together, so not a great deal.\n",
            "Cleaned: energy drink great product shipping price crazy tho paid shipping products together great deal\n",
            "\n",
            "Original: Fast shipping, items were packaged nicely and are as described. Also, very tasty :) Highly recommend this product to anyone looking to buy.\n",
            "Cleaned: fast shipping items packaged nicely described also tasty highly recommend product anyone looking buy\n",
            "\n",
            "Query 2: disappointed\n",
            "\n",
            "Original: I am a bit disappointed.  The flavor was not what I wanted or expected.\n",
            "Cleaned: bit disappointed flavor wanted expected\n",
            "\n",
            "Original: The product is very good. Way too expensive and at almost 5.00 a box to get pancakes or biscuits I was disappointed\n",
            "Cleaned: product good way expensive almost box get pancakes biscuits disappointed\n",
            "\n",
            "Original: Disappointed.  The big boxes had a very different flavor than the smaller boxes.  I am not sure why but not good.\n",
            "Cleaned: disappointed big boxes different flavor smaller boxes sure good\n",
            "\n",
            "Original: Just plain nasty!!! This item tasted like cardboard, very watered down and no flavor to it at all.  Very disappointed\n",
            "Cleaned: plain nasty item tasted like cardboard watered flavor disappointed\n",
            "\n",
            "Original: this stuff really works, i love it and cant get enough.  It tastes amazing  Highly recommend trying it, you wont be disappointed!!\n",
            "Cleaned: stuff really works love cant get enough tastes amazing highly recommend trying wont disappointed\n"
          ]
        }
      ]
    }
  ]
}
