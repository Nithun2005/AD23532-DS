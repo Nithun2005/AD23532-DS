{
  "nbformat": 4,
  "nbformat_minor": 0,
  "metadata": {
    "colab": {
      "provenance": []
    },
    "kernelspec": {
      "name": "python3",
      "display_name": "Python 3"
    },
    "language_info": {
      "name": "python"
    }
  },
  "cells": [
    {
      "cell_type": "code",
      "execution_count": 22,
      "metadata": {
        "id": "aO0CMhINjzOJ"
      },
      "outputs": [],
      "source": [
        "import pandas as pd\n",
        "import numpy as np\n",
        "import seaborn as sns\n",
        "import matplotlib.pyplot as plt\n",
        "from sklearn.model_selection import train_test_split\n",
        "from sklearn.impute import SimpleImputer"
      ]
    },
    {
      "cell_type": "markdown",
      "source": [
        "##1. Load the dataset"
      ],
      "metadata": {
        "id": "FD-swk6LmO1J"
      }
    },
    {
      "cell_type": "code",
      "source": [
        "df = pd.read_csv('titanic.csv')"
      ],
      "metadata": {
        "id": "ZAI89YXYkg9r"
      },
      "execution_count": 23,
      "outputs": []
    },
    {
      "cell_type": "markdown",
      "source": [
        "## 2. Understand the data"
      ],
      "metadata": {
        "id": "QysUN8ttmkbs"
      }
    },
    {
      "cell_type": "code",
      "source": [
        "print(\"Shape:\", df.shape)\n",
        "print(\"Info:\")\n",
        "print(df.info())\n",
        "print(\"Describe:\")\n",
        "print(df.describe())"
      ],
      "metadata": {
        "colab": {
          "base_uri": "https://localhost:8080/"
        },
        "id": "aKczeVn8kmvc",
        "outputId": "36c38fc0-711a-4e6f-b2b9-c059b1ea286a"
      },
      "execution_count": 24,
      "outputs": [
        {
          "output_type": "stream",
          "name": "stdout",
          "text": [
            "Shape: (891, 12)\n",
            "Info:\n",
            "<class 'pandas.core.frame.DataFrame'>\n",
            "RangeIndex: 891 entries, 0 to 890\n",
            "Data columns (total 12 columns):\n",
            " #   Column       Non-Null Count  Dtype  \n",
            "---  ------       --------------  -----  \n",
            " 0   PassengerId  891 non-null    int64  \n",
            " 1   Survived     891 non-null    int64  \n",
            " 2   Pclass       891 non-null    int64  \n",
            " 3   Name         891 non-null    object \n",
            " 4   Sex          891 non-null    object \n",
            " 5   Age          714 non-null    float64\n",
            " 6   SibSp        891 non-null    int64  \n",
            " 7   Parch        891 non-null    int64  \n",
            " 8   Ticket       891 non-null    object \n",
            " 9   Fare         891 non-null    float64\n",
            " 10  Cabin        204 non-null    object \n",
            " 11  Embarked     889 non-null    object \n",
            "dtypes: float64(2), int64(5), object(5)\n",
            "memory usage: 83.7+ KB\n",
            "None\n",
            "Describe:\n",
            "       PassengerId    Survived      Pclass         Age       SibSp  \\\n",
            "count   891.000000  891.000000  891.000000  714.000000  891.000000   \n",
            "mean    446.000000    0.383838    2.308642   29.699118    0.523008   \n",
            "std     257.353842    0.486592    0.836071   14.526497    1.102743   \n",
            "min       1.000000    0.000000    1.000000    0.420000    0.000000   \n",
            "25%     223.500000    0.000000    2.000000   20.125000    0.000000   \n",
            "50%     446.000000    0.000000    3.000000   28.000000    0.000000   \n",
            "75%     668.500000    1.000000    3.000000   38.000000    1.000000   \n",
            "max     891.000000    1.000000    3.000000   80.000000    8.000000   \n",
            "\n",
            "            Parch        Fare  \n",
            "count  891.000000  891.000000  \n",
            "mean     0.381594   32.204208  \n",
            "std      0.806057   49.693429  \n",
            "min      0.000000    0.000000  \n",
            "25%      0.000000    7.910400  \n",
            "50%      0.000000   14.454200  \n",
            "75%      0.000000   31.000000  \n",
            "max      6.000000  512.329200  \n"
          ]
        }
      ]
    },
    {
      "cell_type": "markdown",
      "source": [
        "## 3. Fill missing Age using SimpleImputer"
      ],
      "metadata": {
        "id": "mV4BhLtlm568"
      }
    },
    {
      "cell_type": "code",
      "source": [
        "age_imputer = SimpleImputer(strategy='mean')\n",
        "df['Age'] = age_imputer.fit_transform(df[['Age']])\n",
        "df"
      ],
      "metadata": {
        "colab": {
          "base_uri": "https://localhost:8080/",
          "height": 424
        },
        "id": "t0Vo-_3RlOaU",
        "outputId": "75877820-6915-4798-e935-d0bb9029b4bb"
      },
      "execution_count": 25,
      "outputs": [
        {
          "output_type": "execute_result",
          "data": {
            "text/plain": [
              "     PassengerId  Survived  Pclass  \\\n",
              "0              1         0       3   \n",
              "1              2         1       1   \n",
              "2              3         1       3   \n",
              "3              4         1       1   \n",
              "4              5         0       3   \n",
              "..           ...       ...     ...   \n",
              "886          887         0       2   \n",
              "887          888         1       1   \n",
              "888          889         0       3   \n",
              "889          890         1       1   \n",
              "890          891         0       3   \n",
              "\n",
              "                                                  Name     Sex        Age  \\\n",
              "0                              Braund, Mr. Owen Harris    male  22.000000   \n",
              "1    Cumings, Mrs. John Bradley (Florence Briggs Th...  female  38.000000   \n",
              "2                               Heikkinen, Miss. Laina  female  26.000000   \n",
              "3         Futrelle, Mrs. Jacques Heath (Lily May Peel)  female  35.000000   \n",
              "4                             Allen, Mr. William Henry    male  35.000000   \n",
              "..                                                 ...     ...        ...   \n",
              "886                              Montvila, Rev. Juozas    male  27.000000   \n",
              "887                       Graham, Miss. Margaret Edith  female  19.000000   \n",
              "888           Johnston, Miss. Catherine Helen \"Carrie\"  female  29.699118   \n",
              "889                              Behr, Mr. Karl Howell    male  26.000000   \n",
              "890                                Dooley, Mr. Patrick    male  32.000000   \n",
              "\n",
              "     SibSp  Parch            Ticket     Fare Cabin Embarked  \n",
              "0        1      0         A/5 21171   7.2500   NaN        S  \n",
              "1        1      0          PC 17599  71.2833   C85        C  \n",
              "2        0      0  STON/O2. 3101282   7.9250   NaN        S  \n",
              "3        1      0            113803  53.1000  C123        S  \n",
              "4        0      0            373450   8.0500   NaN        S  \n",
              "..     ...    ...               ...      ...   ...      ...  \n",
              "886      0      0            211536  13.0000   NaN        S  \n",
              "887      0      0            112053  30.0000   B42        S  \n",
              "888      1      2        W./C. 6607  23.4500   NaN        S  \n",
              "889      0      0            111369  30.0000  C148        C  \n",
              "890      0      0            370376   7.7500   NaN        Q  \n",
              "\n",
              "[891 rows x 12 columns]"
            ],
            "text/html": [
              "\n",
              "  <div id=\"df-da57b97e-3430-4907-81b8-bb68a5fdced4\" class=\"colab-df-container\">\n",
              "    <div>\n",
              "<style scoped>\n",
              "    .dataframe tbody tr th:only-of-type {\n",
              "        vertical-align: middle;\n",
              "    }\n",
              "\n",
              "    .dataframe tbody tr th {\n",
              "        vertical-align: top;\n",
              "    }\n",
              "\n",
              "    .dataframe thead th {\n",
              "        text-align: right;\n",
              "    }\n",
              "</style>\n",
              "<table border=\"1\" class=\"dataframe\">\n",
              "  <thead>\n",
              "    <tr style=\"text-align: right;\">\n",
              "      <th></th>\n",
              "      <th>PassengerId</th>\n",
              "      <th>Survived</th>\n",
              "      <th>Pclass</th>\n",
              "      <th>Name</th>\n",
              "      <th>Sex</th>\n",
              "      <th>Age</th>\n",
              "      <th>SibSp</th>\n",
              "      <th>Parch</th>\n",
              "      <th>Ticket</th>\n",
              "      <th>Fare</th>\n",
              "      <th>Cabin</th>\n",
              "      <th>Embarked</th>\n",
              "    </tr>\n",
              "  </thead>\n",
              "  <tbody>\n",
              "    <tr>\n",
              "      <th>0</th>\n",
              "      <td>1</td>\n",
              "      <td>0</td>\n",
              "      <td>3</td>\n",
              "      <td>Braund, Mr. Owen Harris</td>\n",
              "      <td>male</td>\n",
              "      <td>22.000000</td>\n",
              "      <td>1</td>\n",
              "      <td>0</td>\n",
              "      <td>A/5 21171</td>\n",
              "      <td>7.2500</td>\n",
              "      <td>NaN</td>\n",
              "      <td>S</td>\n",
              "    </tr>\n",
              "    <tr>\n",
              "      <th>1</th>\n",
              "      <td>2</td>\n",
              "      <td>1</td>\n",
              "      <td>1</td>\n",
              "      <td>Cumings, Mrs. John Bradley (Florence Briggs Th...</td>\n",
              "      <td>female</td>\n",
              "      <td>38.000000</td>\n",
              "      <td>1</td>\n",
              "      <td>0</td>\n",
              "      <td>PC 17599</td>\n",
              "      <td>71.2833</td>\n",
              "      <td>C85</td>\n",
              "      <td>C</td>\n",
              "    </tr>\n",
              "    <tr>\n",
              "      <th>2</th>\n",
              "      <td>3</td>\n",
              "      <td>1</td>\n",
              "      <td>3</td>\n",
              "      <td>Heikkinen, Miss. Laina</td>\n",
              "      <td>female</td>\n",
              "      <td>26.000000</td>\n",
              "      <td>0</td>\n",
              "      <td>0</td>\n",
              "      <td>STON/O2. 3101282</td>\n",
              "      <td>7.9250</td>\n",
              "      <td>NaN</td>\n",
              "      <td>S</td>\n",
              "    </tr>\n",
              "    <tr>\n",
              "      <th>3</th>\n",
              "      <td>4</td>\n",
              "      <td>1</td>\n",
              "      <td>1</td>\n",
              "      <td>Futrelle, Mrs. Jacques Heath (Lily May Peel)</td>\n",
              "      <td>female</td>\n",
              "      <td>35.000000</td>\n",
              "      <td>1</td>\n",
              "      <td>0</td>\n",
              "      <td>113803</td>\n",
              "      <td>53.1000</td>\n",
              "      <td>C123</td>\n",
              "      <td>S</td>\n",
              "    </tr>\n",
              "    <tr>\n",
              "      <th>4</th>\n",
              "      <td>5</td>\n",
              "      <td>0</td>\n",
              "      <td>3</td>\n",
              "      <td>Allen, Mr. William Henry</td>\n",
              "      <td>male</td>\n",
              "      <td>35.000000</td>\n",
              "      <td>0</td>\n",
              "      <td>0</td>\n",
              "      <td>373450</td>\n",
              "      <td>8.0500</td>\n",
              "      <td>NaN</td>\n",
              "      <td>S</td>\n",
              "    </tr>\n",
              "    <tr>\n",
              "      <th>...</th>\n",
              "      <td>...</td>\n",
              "      <td>...</td>\n",
              "      <td>...</td>\n",
              "      <td>...</td>\n",
              "      <td>...</td>\n",
              "      <td>...</td>\n",
              "      <td>...</td>\n",
              "      <td>...</td>\n",
              "      <td>...</td>\n",
              "      <td>...</td>\n",
              "      <td>...</td>\n",
              "      <td>...</td>\n",
              "    </tr>\n",
              "    <tr>\n",
              "      <th>886</th>\n",
              "      <td>887</td>\n",
              "      <td>0</td>\n",
              "      <td>2</td>\n",
              "      <td>Montvila, Rev. Juozas</td>\n",
              "      <td>male</td>\n",
              "      <td>27.000000</td>\n",
              "      <td>0</td>\n",
              "      <td>0</td>\n",
              "      <td>211536</td>\n",
              "      <td>13.0000</td>\n",
              "      <td>NaN</td>\n",
              "      <td>S</td>\n",
              "    </tr>\n",
              "    <tr>\n",
              "      <th>887</th>\n",
              "      <td>888</td>\n",
              "      <td>1</td>\n",
              "      <td>1</td>\n",
              "      <td>Graham, Miss. Margaret Edith</td>\n",
              "      <td>female</td>\n",
              "      <td>19.000000</td>\n",
              "      <td>0</td>\n",
              "      <td>0</td>\n",
              "      <td>112053</td>\n",
              "      <td>30.0000</td>\n",
              "      <td>B42</td>\n",
              "      <td>S</td>\n",
              "    </tr>\n",
              "    <tr>\n",
              "      <th>888</th>\n",
              "      <td>889</td>\n",
              "      <td>0</td>\n",
              "      <td>3</td>\n",
              "      <td>Johnston, Miss. Catherine Helen \"Carrie\"</td>\n",
              "      <td>female</td>\n",
              "      <td>29.699118</td>\n",
              "      <td>1</td>\n",
              "      <td>2</td>\n",
              "      <td>W./C. 6607</td>\n",
              "      <td>23.4500</td>\n",
              "      <td>NaN</td>\n",
              "      <td>S</td>\n",
              "    </tr>\n",
              "    <tr>\n",
              "      <th>889</th>\n",
              "      <td>890</td>\n",
              "      <td>1</td>\n",
              "      <td>1</td>\n",
              "      <td>Behr, Mr. Karl Howell</td>\n",
              "      <td>male</td>\n",
              "      <td>26.000000</td>\n",
              "      <td>0</td>\n",
              "      <td>0</td>\n",
              "      <td>111369</td>\n",
              "      <td>30.0000</td>\n",
              "      <td>C148</td>\n",
              "      <td>C</td>\n",
              "    </tr>\n",
              "    <tr>\n",
              "      <th>890</th>\n",
              "      <td>891</td>\n",
              "      <td>0</td>\n",
              "      <td>3</td>\n",
              "      <td>Dooley, Mr. Patrick</td>\n",
              "      <td>male</td>\n",
              "      <td>32.000000</td>\n",
              "      <td>0</td>\n",
              "      <td>0</td>\n",
              "      <td>370376</td>\n",
              "      <td>7.7500</td>\n",
              "      <td>NaN</td>\n",
              "      <td>Q</td>\n",
              "    </tr>\n",
              "  </tbody>\n",
              "</table>\n",
              "<p>891 rows × 12 columns</p>\n",
              "</div>\n",
              "    <div class=\"colab-df-buttons\">\n",
              "\n",
              "  <div class=\"colab-df-container\">\n",
              "    <button class=\"colab-df-convert\" onclick=\"convertToInteractive('df-da57b97e-3430-4907-81b8-bb68a5fdced4')\"\n",
              "            title=\"Convert this dataframe to an interactive table.\"\n",
              "            style=\"display:none;\">\n",
              "\n",
              "  <svg xmlns=\"http://www.w3.org/2000/svg\" height=\"24px\" viewBox=\"0 -960 960 960\">\n",
              "    <path d=\"M120-120v-720h720v720H120Zm60-500h600v-160H180v160Zm220 220h160v-160H400v160Zm0 220h160v-160H400v160ZM180-400h160v-160H180v160Zm440 0h160v-160H620v160ZM180-180h160v-160H180v160Zm440 0h160v-160H620v160Z\"/>\n",
              "  </svg>\n",
              "    </button>\n",
              "\n",
              "  <style>\n",
              "    .colab-df-container {\n",
              "      display:flex;\n",
              "      gap: 12px;\n",
              "    }\n",
              "\n",
              "    .colab-df-convert {\n",
              "      background-color: #E8F0FE;\n",
              "      border: none;\n",
              "      border-radius: 50%;\n",
              "      cursor: pointer;\n",
              "      display: none;\n",
              "      fill: #1967D2;\n",
              "      height: 32px;\n",
              "      padding: 0 0 0 0;\n",
              "      width: 32px;\n",
              "    }\n",
              "\n",
              "    .colab-df-convert:hover {\n",
              "      background-color: #E2EBFA;\n",
              "      box-shadow: 0px 1px 2px rgba(60, 64, 67, 0.3), 0px 1px 3px 1px rgba(60, 64, 67, 0.15);\n",
              "      fill: #174EA6;\n",
              "    }\n",
              "\n",
              "    .colab-df-buttons div {\n",
              "      margin-bottom: 4px;\n",
              "    }\n",
              "\n",
              "    [theme=dark] .colab-df-convert {\n",
              "      background-color: #3B4455;\n",
              "      fill: #D2E3FC;\n",
              "    }\n",
              "\n",
              "    [theme=dark] .colab-df-convert:hover {\n",
              "      background-color: #434B5C;\n",
              "      box-shadow: 0px 1px 3px 1px rgba(0, 0, 0, 0.15);\n",
              "      filter: drop-shadow(0px 1px 2px rgba(0, 0, 0, 0.3));\n",
              "      fill: #FFFFFF;\n",
              "    }\n",
              "  </style>\n",
              "\n",
              "    <script>\n",
              "      const buttonEl =\n",
              "        document.querySelector('#df-da57b97e-3430-4907-81b8-bb68a5fdced4 button.colab-df-convert');\n",
              "      buttonEl.style.display =\n",
              "        google.colab.kernel.accessAllowed ? 'block' : 'none';\n",
              "\n",
              "      async function convertToInteractive(key) {\n",
              "        const element = document.querySelector('#df-da57b97e-3430-4907-81b8-bb68a5fdced4');\n",
              "        const dataTable =\n",
              "          await google.colab.kernel.invokeFunction('convertToInteractive',\n",
              "                                                    [key], {});\n",
              "        if (!dataTable) return;\n",
              "\n",
              "        const docLinkHtml = 'Like what you see? Visit the ' +\n",
              "          '<a target=\"_blank\" href=https://colab.research.google.com/notebooks/data_table.ipynb>data table notebook</a>'\n",
              "          + ' to learn more about interactive tables.';\n",
              "        element.innerHTML = '';\n",
              "        dataTable['output_type'] = 'display_data';\n",
              "        await google.colab.output.renderOutput(dataTable, element);\n",
              "        const docLink = document.createElement('div');\n",
              "        docLink.innerHTML = docLinkHtml;\n",
              "        element.appendChild(docLink);\n",
              "      }\n",
              "    </script>\n",
              "  </div>\n",
              "\n",
              "\n",
              "    <div id=\"df-7a57f6f4-718d-4de2-bbb0-caa4aa03e1db\">\n",
              "      <button class=\"colab-df-quickchart\" onclick=\"quickchart('df-7a57f6f4-718d-4de2-bbb0-caa4aa03e1db')\"\n",
              "                title=\"Suggest charts\"\n",
              "                style=\"display:none;\">\n",
              "\n",
              "<svg xmlns=\"http://www.w3.org/2000/svg\" height=\"24px\"viewBox=\"0 0 24 24\"\n",
              "     width=\"24px\">\n",
              "    <g>\n",
              "        <path d=\"M19 3H5c-1.1 0-2 .9-2 2v14c0 1.1.9 2 2 2h14c1.1 0 2-.9 2-2V5c0-1.1-.9-2-2-2zM9 17H7v-7h2v7zm4 0h-2V7h2v10zm4 0h-2v-4h2v4z\"/>\n",
              "    </g>\n",
              "</svg>\n",
              "      </button>\n",
              "\n",
              "<style>\n",
              "  .colab-df-quickchart {\n",
              "      --bg-color: #E8F0FE;\n",
              "      --fill-color: #1967D2;\n",
              "      --hover-bg-color: #E2EBFA;\n",
              "      --hover-fill-color: #174EA6;\n",
              "      --disabled-fill-color: #AAA;\n",
              "      --disabled-bg-color: #DDD;\n",
              "  }\n",
              "\n",
              "  [theme=dark] .colab-df-quickchart {\n",
              "      --bg-color: #3B4455;\n",
              "      --fill-color: #D2E3FC;\n",
              "      --hover-bg-color: #434B5C;\n",
              "      --hover-fill-color: #FFFFFF;\n",
              "      --disabled-bg-color: #3B4455;\n",
              "      --disabled-fill-color: #666;\n",
              "  }\n",
              "\n",
              "  .colab-df-quickchart {\n",
              "    background-color: var(--bg-color);\n",
              "    border: none;\n",
              "    border-radius: 50%;\n",
              "    cursor: pointer;\n",
              "    display: none;\n",
              "    fill: var(--fill-color);\n",
              "    height: 32px;\n",
              "    padding: 0;\n",
              "    width: 32px;\n",
              "  }\n",
              "\n",
              "  .colab-df-quickchart:hover {\n",
              "    background-color: var(--hover-bg-color);\n",
              "    box-shadow: 0 1px 2px rgba(60, 64, 67, 0.3), 0 1px 3px 1px rgba(60, 64, 67, 0.15);\n",
              "    fill: var(--button-hover-fill-color);\n",
              "  }\n",
              "\n",
              "  .colab-df-quickchart-complete:disabled,\n",
              "  .colab-df-quickchart-complete:disabled:hover {\n",
              "    background-color: var(--disabled-bg-color);\n",
              "    fill: var(--disabled-fill-color);\n",
              "    box-shadow: none;\n",
              "  }\n",
              "\n",
              "  .colab-df-spinner {\n",
              "    border: 2px solid var(--fill-color);\n",
              "    border-color: transparent;\n",
              "    border-bottom-color: var(--fill-color);\n",
              "    animation:\n",
              "      spin 1s steps(1) infinite;\n",
              "  }\n",
              "\n",
              "  @keyframes spin {\n",
              "    0% {\n",
              "      border-color: transparent;\n",
              "      border-bottom-color: var(--fill-color);\n",
              "      border-left-color: var(--fill-color);\n",
              "    }\n",
              "    20% {\n",
              "      border-color: transparent;\n",
              "      border-left-color: var(--fill-color);\n",
              "      border-top-color: var(--fill-color);\n",
              "    }\n",
              "    30% {\n",
              "      border-color: transparent;\n",
              "      border-left-color: var(--fill-color);\n",
              "      border-top-color: var(--fill-color);\n",
              "      border-right-color: var(--fill-color);\n",
              "    }\n",
              "    40% {\n",
              "      border-color: transparent;\n",
              "      border-right-color: var(--fill-color);\n",
              "      border-top-color: var(--fill-color);\n",
              "    }\n",
              "    60% {\n",
              "      border-color: transparent;\n",
              "      border-right-color: var(--fill-color);\n",
              "    }\n",
              "    80% {\n",
              "      border-color: transparent;\n",
              "      border-right-color: var(--fill-color);\n",
              "      border-bottom-color: var(--fill-color);\n",
              "    }\n",
              "    90% {\n",
              "      border-color: transparent;\n",
              "      border-bottom-color: var(--fill-color);\n",
              "    }\n",
              "  }\n",
              "</style>\n",
              "\n",
              "      <script>\n",
              "        async function quickchart(key) {\n",
              "          const quickchartButtonEl =\n",
              "            document.querySelector('#' + key + ' button');\n",
              "          quickchartButtonEl.disabled = true;  // To prevent multiple clicks.\n",
              "          quickchartButtonEl.classList.add('colab-df-spinner');\n",
              "          try {\n",
              "            const charts = await google.colab.kernel.invokeFunction(\n",
              "                'suggestCharts', [key], {});\n",
              "          } catch (error) {\n",
              "            console.error('Error during call to suggestCharts:', error);\n",
              "          }\n",
              "          quickchartButtonEl.classList.remove('colab-df-spinner');\n",
              "          quickchartButtonEl.classList.add('colab-df-quickchart-complete');\n",
              "        }\n",
              "        (() => {\n",
              "          let quickchartButtonEl =\n",
              "            document.querySelector('#df-7a57f6f4-718d-4de2-bbb0-caa4aa03e1db button');\n",
              "          quickchartButtonEl.style.display =\n",
              "            google.colab.kernel.accessAllowed ? 'block' : 'none';\n",
              "        })();\n",
              "      </script>\n",
              "    </div>\n",
              "\n",
              "  <div id=\"id_0a039dfc-8618-409d-802a-4d052a4b4765\">\n",
              "    <style>\n",
              "      .colab-df-generate {\n",
              "        background-color: #E8F0FE;\n",
              "        border: none;\n",
              "        border-radius: 50%;\n",
              "        cursor: pointer;\n",
              "        display: none;\n",
              "        fill: #1967D2;\n",
              "        height: 32px;\n",
              "        padding: 0 0 0 0;\n",
              "        width: 32px;\n",
              "      }\n",
              "\n",
              "      .colab-df-generate:hover {\n",
              "        background-color: #E2EBFA;\n",
              "        box-shadow: 0px 1px 2px rgba(60, 64, 67, 0.3), 0px 1px 3px 1px rgba(60, 64, 67, 0.15);\n",
              "        fill: #174EA6;\n",
              "      }\n",
              "\n",
              "      [theme=dark] .colab-df-generate {\n",
              "        background-color: #3B4455;\n",
              "        fill: #D2E3FC;\n",
              "      }\n",
              "\n",
              "      [theme=dark] .colab-df-generate:hover {\n",
              "        background-color: #434B5C;\n",
              "        box-shadow: 0px 1px 3px 1px rgba(0, 0, 0, 0.15);\n",
              "        filter: drop-shadow(0px 1px 2px rgba(0, 0, 0, 0.3));\n",
              "        fill: #FFFFFF;\n",
              "      }\n",
              "    </style>\n",
              "    <button class=\"colab-df-generate\" onclick=\"generateWithVariable('df')\"\n",
              "            title=\"Generate code using this dataframe.\"\n",
              "            style=\"display:none;\">\n",
              "\n",
              "  <svg xmlns=\"http://www.w3.org/2000/svg\" height=\"24px\"viewBox=\"0 0 24 24\"\n",
              "       width=\"24px\">\n",
              "    <path d=\"M7,19H8.4L18.45,9,17,7.55,7,17.6ZM5,21V16.75L18.45,3.32a2,2,0,0,1,2.83,0l1.4,1.43a1.91,1.91,0,0,1,.58,1.4,1.91,1.91,0,0,1-.58,1.4L9.25,21ZM18.45,9,17,7.55Zm-12,3A5.31,5.31,0,0,0,4.9,8.1,5.31,5.31,0,0,0,1,6.5,5.31,5.31,0,0,0,4.9,4.9,5.31,5.31,0,0,0,6.5,1,5.31,5.31,0,0,0,8.1,4.9,5.31,5.31,0,0,0,12,6.5,5.46,5.46,0,0,0,6.5,12Z\"/>\n",
              "  </svg>\n",
              "    </button>\n",
              "    <script>\n",
              "      (() => {\n",
              "      const buttonEl =\n",
              "        document.querySelector('#id_0a039dfc-8618-409d-802a-4d052a4b4765 button.colab-df-generate');\n",
              "      buttonEl.style.display =\n",
              "        google.colab.kernel.accessAllowed ? 'block' : 'none';\n",
              "\n",
              "      buttonEl.onclick = () => {\n",
              "        google.colab.notebook.generateWithVariable('df');\n",
              "      }\n",
              "      })();\n",
              "    </script>\n",
              "  </div>\n",
              "\n",
              "    </div>\n",
              "  </div>\n"
            ],
            "application/vnd.google.colaboratory.intrinsic+json": {
              "type": "dataframe",
              "variable_name": "df",
              "summary": "{\n  \"name\": \"df\",\n  \"rows\": 891,\n  \"fields\": [\n    {\n      \"column\": \"PassengerId\",\n      \"properties\": {\n        \"dtype\": \"number\",\n        \"std\": 257,\n        \"min\": 1,\n        \"max\": 891,\n        \"num_unique_values\": 891,\n        \"samples\": [\n          710,\n          440,\n          841\n        ],\n        \"semantic_type\": \"\",\n        \"description\": \"\"\n      }\n    },\n    {\n      \"column\": \"Survived\",\n      \"properties\": {\n        \"dtype\": \"number\",\n        \"std\": 0,\n        \"min\": 0,\n        \"max\": 1,\n        \"num_unique_values\": 2,\n        \"samples\": [\n          1,\n          0\n        ],\n        \"semantic_type\": \"\",\n        \"description\": \"\"\n      }\n    },\n    {\n      \"column\": \"Pclass\",\n      \"properties\": {\n        \"dtype\": \"number\",\n        \"std\": 0,\n        \"min\": 1,\n        \"max\": 3,\n        \"num_unique_values\": 3,\n        \"samples\": [\n          3,\n          1\n        ],\n        \"semantic_type\": \"\",\n        \"description\": \"\"\n      }\n    },\n    {\n      \"column\": \"Name\",\n      \"properties\": {\n        \"dtype\": \"string\",\n        \"num_unique_values\": 891,\n        \"samples\": [\n          \"Moubarek, Master. Halim Gonios (\\\"William George\\\")\",\n          \"Kvillner, Mr. Johan Henrik Johannesson\"\n        ],\n        \"semantic_type\": \"\",\n        \"description\": \"\"\n      }\n    },\n    {\n      \"column\": \"Sex\",\n      \"properties\": {\n        \"dtype\": \"category\",\n        \"num_unique_values\": 2,\n        \"samples\": [\n          \"female\",\n          \"male\"\n        ],\n        \"semantic_type\": \"\",\n        \"description\": \"\"\n      }\n    },\n    {\n      \"column\": \"Age\",\n      \"properties\": {\n        \"dtype\": \"number\",\n        \"std\": 13.002015226002884,\n        \"min\": 0.42,\n        \"max\": 80.0,\n        \"num_unique_values\": 89,\n        \"samples\": [\n          59.0,\n          36.5\n        ],\n        \"semantic_type\": \"\",\n        \"description\": \"\"\n      }\n    },\n    {\n      \"column\": \"SibSp\",\n      \"properties\": {\n        \"dtype\": \"number\",\n        \"std\": 1,\n        \"min\": 0,\n        \"max\": 8,\n        \"num_unique_values\": 7,\n        \"samples\": [\n          1,\n          0\n        ],\n        \"semantic_type\": \"\",\n        \"description\": \"\"\n      }\n    },\n    {\n      \"column\": \"Parch\",\n      \"properties\": {\n        \"dtype\": \"number\",\n        \"std\": 0,\n        \"min\": 0,\n        \"max\": 6,\n        \"num_unique_values\": 7,\n        \"samples\": [\n          0,\n          1\n        ],\n        \"semantic_type\": \"\",\n        \"description\": \"\"\n      }\n    },\n    {\n      \"column\": \"Ticket\",\n      \"properties\": {\n        \"dtype\": \"string\",\n        \"num_unique_values\": 681,\n        \"samples\": [\n          \"11774\",\n          \"248740\"\n        ],\n        \"semantic_type\": \"\",\n        \"description\": \"\"\n      }\n    },\n    {\n      \"column\": \"Fare\",\n      \"properties\": {\n        \"dtype\": \"number\",\n        \"std\": 49.693428597180905,\n        \"min\": 0.0,\n        \"max\": 512.3292,\n        \"num_unique_values\": 248,\n        \"samples\": [\n          11.2417,\n          51.8625\n        ],\n        \"semantic_type\": \"\",\n        \"description\": \"\"\n      }\n    },\n    {\n      \"column\": \"Cabin\",\n      \"properties\": {\n        \"dtype\": \"category\",\n        \"num_unique_values\": 147,\n        \"samples\": [\n          \"D45\",\n          \"B49\"\n        ],\n        \"semantic_type\": \"\",\n        \"description\": \"\"\n      }\n    },\n    {\n      \"column\": \"Embarked\",\n      \"properties\": {\n        \"dtype\": \"category\",\n        \"num_unique_values\": 3,\n        \"samples\": [\n          \"S\",\n          \"C\"\n        ],\n        \"semantic_type\": \"\",\n        \"description\": \"\"\n      }\n    }\n  ]\n}"
            }
          },
          "metadata": {},
          "execution_count": 25
        }
      ]
    },
    {
      "cell_type": "markdown",
      "source": [
        "## 4. Fill missing Cabin with \"Unknown\""
      ],
      "metadata": {
        "id": "coSQTygxnBLa"
      }
    },
    {
      "cell_type": "code",
      "source": [
        "df['Cabin'] = df['Cabin'].fillna('Unknown')"
      ],
      "metadata": {
        "id": "F4JxYtcwlSYD"
      },
      "execution_count": 26,
      "outputs": []
    },
    {
      "cell_type": "markdown",
      "source": [
        "## 5. Fill missing Embarked with the mode"
      ],
      "metadata": {
        "id": "BQO4YzSznF8c"
      }
    },
    {
      "cell_type": "code",
      "source": [
        "df['Embarked'] = df['Embarked'].fillna(df['Embarked'].mode()[0])"
      ],
      "metadata": {
        "id": "jCMV5h-jlaEc"
      },
      "execution_count": 27,
      "outputs": []
    },
    {
      "cell_type": "markdown",
      "source": [
        "## 6. Analyse Passenger Class"
      ],
      "metadata": {
        "id": "ji51immunNLD"
      }
    },
    {
      "cell_type": "code",
      "source": [
        "sns.countplot(data=df, x='Pclass')\n",
        "plt.title('Passenger Class Count')\n",
        "plt.show()"
      ],
      "metadata": {
        "colab": {
          "base_uri": "https://localhost:8080/",
          "height": 472
        },
        "id": "VBymZoTQlcgM",
        "outputId": "fa188c99-de8b-40a4-f9ee-c161ddf977e0"
      },
      "execution_count": 28,
      "outputs": [
        {
          "output_type": "display_data",
          "data": {
            "text/plain": [
              "<Figure size 640x480 with 1 Axes>"
            ],
            "image/png": "[encoded data removed]"
          },
          "metadata": {}
        }
      ]
    },
    {
      "cell_type": "markdown",
      "source": [
        "## 7. Female passengers who survived"
      ],
      "metadata": {
        "id": "5YutRsMYnTgP"
      }
    },
    {
      "cell_type": "code",
      "source": [
        "female_survived = df[(df['Sex'] == 'female') & (df['Survived'] == 1)]\n",
        "print(\"Female survivors:\")\n",
        "print(female_survived[['Name']])"
      ],
      "metadata": {
        "colab": {
          "base_uri": "https://localhost:8080/"
        },
        "id": "a6QAVVcJle1M",
        "outputId": "c6125ccc-fb39-4954-ade1-3190afe7799b"
      },
      "execution_count": 29,
      "outputs": [
        {
          "output_type": "stream",
          "name": "stdout",
          "text": [
            "Female survivors:\n",
            "                                                  Name\n",
            "1    Cumings, Mrs. John Bradley (Florence Briggs Th...\n",
            "2                               Heikkinen, Miss. Laina\n",
            "3         Futrelle, Mrs. Jacques Heath (Lily May Peel)\n",
            "8    Johnson, Mrs. Oscar W (Elisabeth Vilhelmina Berg)\n",
            "9                  Nasser, Mrs. Nicholas (Adele Achem)\n",
            "..                                                 ...\n",
            "874              Abelson, Mrs. Samuel (Hannah Wizosky)\n",
            "875                   Najib, Miss. Adele Kiamie \"Jane\"\n",
            "879      Potter, Mrs. Thomas Jr (Lily Alexenia Wilson)\n",
            "880       Shelley, Mrs. William (Imanita Parrish Hall)\n",
            "887                       Graham, Miss. Margaret Edith\n",
            "\n",
            "[233 rows x 1 columns]\n"
          ]
        }
      ]
    },
    {
      "cell_type": "markdown",
      "source": [
        "## 8. Passengers in 3rd class and under 18"
      ],
      "metadata": {
        "id": "lf6LiADznXJV"
      }
    },
    {
      "cell_type": "code",
      "source": [
        "third_class_under_18 = df[(df['Pclass'] == 3) & (df['Age'] < 18)]\n",
        "print(\"3rd class under 18:\")\n",
        "print(third_class_under_18)"
      ],
      "metadata": {
        "colab": {
          "base_uri": "https://localhost:8080/"
        },
        "id": "DWvomoNJliys",
        "outputId": "34985e19-066d-4309-e157-a92f2cdc7acd"
      },
      "execution_count": 30,
      "outputs": [
        {
          "output_type": "stream",
          "name": "stdout",
          "text": [
            "3rd class under 18:\n",
            "     PassengerId  Survived  Pclass                                     Name  \\\n",
            "7              8         0       3           Palsson, Master. Gosta Leonard   \n",
            "10            11         1       3          Sandstrom, Miss. Marguerite Rut   \n",
            "14            15         0       3     Vestrom, Miss. Hulda Amanda Adolfina   \n",
            "16            17         0       3                     Rice, Master. Eugene   \n",
            "22            23         1       3              McGowan, Miss. Anna \"Annie\"   \n",
            "..           ...       ...     ...                                      ...   \n",
            "844          845         0       3                      Culumovic, Mr. Jeso   \n",
            "850          851         0       3  Andersson, Master. Sigvard Harald Elias   \n",
            "852          853         0       3                  Boulos, Miss. Nourelain   \n",
            "869          870         1       3          Johnson, Master. Harold Theodor   \n",
            "875          876         1       3         Najib, Miss. Adele Kiamie \"Jane\"   \n",
            "\n",
            "        Sex   Age  SibSp  Parch   Ticket     Fare    Cabin Embarked  \n",
            "7      male   2.0      3      1   349909  21.0750  Unknown        S  \n",
            "10   female   4.0      1      1  PP 9549  16.7000       G6        S  \n",
            "14   female  14.0      0      0   350406   7.8542  Unknown        S  \n",
            "16     male   2.0      4      1   382652  29.1250  Unknown        Q  \n",
            "22   female  15.0      0      0   330923   8.0292  Unknown        Q  \n",
            "..      ...   ...    ...    ...      ...      ...      ...      ...  \n",
            "844    male  17.0      0      0   315090   8.6625  Unknown        S  \n",
            "850    male   4.0      4      2   347082  31.2750  Unknown        S  \n",
            "852  female   9.0      1      1     2678  15.2458  Unknown        C  \n",
            "869    male   4.0      1      1   347742  11.1333  Unknown        S  \n",
            "875  female  15.0      0      0     2667   7.2250  Unknown        C  \n",
            "\n",
            "[78 rows x 12 columns]\n"
          ]
        }
      ]
    },
    {
      "cell_type": "markdown",
      "source": [
        "## 9. 1st class passengers older than 40"
      ],
      "metadata": {
        "id": "bYhEJ4N2naOa"
      }
    },
    {
      "cell_type": "code",
      "source": [
        "first_class_above_40 = df[(df['Pclass'] == 1) & (df['Age'] > 40)]\n",
        "print(\"1st class above 40:\")\n",
        "print(first_class_above_40)"
      ],
      "metadata": {
        "colab": {
          "base_uri": "https://localhost:8080/"
        },
        "id": "GDnOoZQallEB",
        "outputId": "75ddffc1-46ed-449e-c246-40d30834d519"
      },
      "execution_count": 31,
      "outputs": [
        {
          "output_type": "stream",
          "name": "stdout",
          "text": [
            "1st class above 40:\n",
            "     PassengerId  Survived  Pclass  \\\n",
            "6              7         0       1   \n",
            "11            12         1       1   \n",
            "35            36         0       1   \n",
            "52            53         1       1   \n",
            "54            55         0       1   \n",
            "..           ...       ...     ...   \n",
            "856          857         1       1   \n",
            "857          858         1       1   \n",
            "862          863         1       1   \n",
            "871          872         1       1   \n",
            "879          880         1       1   \n",
            "\n",
            "                                                  Name     Sex   Age  SibSp  \\\n",
            "6                              McCarthy, Mr. Timothy J    male  54.0      0   \n",
            "11                            Bonnell, Miss. Elizabeth  female  58.0      0   \n",
            "35                      Holverson, Mr. Alexander Oskar    male  42.0      1   \n",
            "52            Harper, Mrs. Henry Sleeper (Myna Haxtun)  female  49.0      1   \n",
            "54                      Ostby, Mr. Engelhart Cornelius    male  65.0      0   \n",
            "..                                                 ...     ...   ...    ...   \n",
            "856         Wick, Mrs. George Dennick (Mary Hitchcock)  female  45.0      1   \n",
            "857                             Daly, Mr. Peter Denis     male  51.0      0   \n",
            "862  Swift, Mrs. Frederick Joel (Margaret Welles Ba...  female  48.0      0   \n",
            "871   Beckwith, Mrs. Richard Leonard (Sallie Monypeny)  female  47.0      1   \n",
            "879      Potter, Mrs. Thomas Jr (Lily Alexenia Wilson)  female  56.0      0   \n",
            "\n",
            "     Parch    Ticket      Fare    Cabin Embarked  \n",
            "6        0     17463   51.8625      E46        S  \n",
            "11       0    113783   26.5500     C103        S  \n",
            "35       0    113789   52.0000  Unknown        S  \n",
            "52       0  PC 17572   76.7292      D33        C  \n",
            "54       1    113509   61.9792      B30        C  \n",
            "..     ...       ...       ...      ...      ...  \n",
            "856      1     36928  164.8667  Unknown        S  \n",
            "857      0    113055   26.5500      E17        S  \n",
            "862      0     17466   25.9292      D17        S  \n",
            "871      1     11751   52.5542      D35        S  \n",
            "879      1     11767   83.1583      C50        C  \n",
            "\n",
            "[76 rows x 12 columns]\n"
          ]
        }
      ]
    },
    {
      "cell_type": "markdown",
      "source": [
        "## 10. Who survived from above category"
      ],
      "metadata": {
        "id": "DX3ZlWuAnmGE"
      }
    },
    {
      "cell_type": "code",
      "source": [
        "survived_above_40 = first_class_above_40[first_class_above_40['Survived'] == 1]\n",
        "print(\"Survived among them:\")\n",
        "print(survived_above_40)"
      ],
      "metadata": {
        "colab": {
          "base_uri": "https://localhost:8080/"
        },
        "id": "RlVLmNgXlnyd",
        "outputId": "38551fa5-8a6a-46e0-c3d4-dd27bba69126"
      },
      "execution_count": 32,
      "outputs": [
        {
          "output_type": "stream",
          "name": "stdout",
          "text": [
            "Survived among them:\n",
            "     PassengerId  Survived  Pclass  \\\n",
            "11            12         1       1   \n",
            "52            53         1       1   \n",
            "187          188         1       1   \n",
            "194          195         1       1   \n",
            "195          196         1       1   \n",
            "268          269         1       1   \n",
            "275          276         1       1   \n",
            "299          300         1       1   \n",
            "337          338         1       1   \n",
            "366          367         1       1   \n",
            "380          381         1       1   \n",
            "449          450         1       1   \n",
            "453          454         1       1   \n",
            "460          461         1       1   \n",
            "496          497         1       1   \n",
            "513          514         1       1   \n",
            "523          524         1       1   \n",
            "556          557         1       1   \n",
            "571          572         1       1   \n",
            "587          588         1       1   \n",
            "591          592         1       1   \n",
            "599          600         1       1   \n",
            "621          622         1       1   \n",
            "630          631         1       1   \n",
            "645          646         1       1   \n",
            "647          648         1       1   \n",
            "660          661         1       1   \n",
            "707          708         1       1   \n",
            "712          713         1       1   \n",
            "765          766         1       1   \n",
            "779          780         1       1   \n",
            "796          797         1       1   \n",
            "820          821         1       1   \n",
            "829          830         1       1   \n",
            "856          857         1       1   \n",
            "857          858         1       1   \n",
            "862          863         1       1   \n",
            "871          872         1       1   \n",
            "879          880         1       1   \n",
            "\n",
            "                                                  Name     Sex   Age  SibSp  \\\n",
            "11                            Bonnell, Miss. Elizabeth  female  58.0      0   \n",
            "52            Harper, Mrs. Henry Sleeper (Myna Haxtun)  female  49.0      1   \n",
            "187      Romaine, Mr. Charles Hallace (\"Mr C Rolmane\")    male  45.0      0   \n",
            "194          Brown, Mrs. James Joseph (Margaret Tobin)  female  44.0      0   \n",
            "195                               Lurette, Miss. Elise  female  58.0      0   \n",
            "268      Graham, Mrs. William Thompson (Edith Junkins)  female  58.0      0   \n",
            "275                  Andrews, Miss. Kornelia Theodosia  female  63.0      1   \n",
            "299    Baxter, Mrs. James (Helene DeLaudeniere Chaput)  female  50.0      0   \n",
            "337                    Burns, Miss. Elizabeth Margaret  female  41.0      0   \n",
            "366   Warren, Mrs. Frank Manley (Anna Sophia Atkinson)  female  60.0      1   \n",
            "380                              Bidois, Miss. Rosalie  female  42.0      0   \n",
            "449                     Peuchen, Major. Arthur Godfrey    male  52.0      0   \n",
            "453                           Goldenberg, Mr. Samuel L    male  49.0      1   \n",
            "460                                Anderson, Mr. Harry    male  48.0      0   \n",
            "496                     Eustis, Miss. Elizabeth Mussey  female  54.0      1   \n",
            "513     Rothschild, Mrs. Martin (Elizabeth L. Barrett)  female  54.0      1   \n",
            "523    Hippach, Mrs. Louis Albert (Ida Sophia Fischer)  female  44.0      0   \n",
            "556  Duff Gordon, Lady. (Lucille Christiana Sutherl...  female  48.0      1   \n",
            "571      Appleton, Mrs. Edward Dale (Charlotte Lamson)  female  53.0      2   \n",
            "587                   Frolicher-Stehli, Mr. Maxmillian    male  60.0      1   \n",
            "591    Stephenson, Mrs. Walter Bertram (Martha Eustis)  female  52.0      1   \n",
            "599       Duff Gordon, Sir. Cosmo Edmund (\"Mr Morgan\")    male  49.0      1   \n",
            "621                       Kimball, Mr. Edwin Nelson Jr    male  42.0      1   \n",
            "630               Barkworth, Mr. Algernon Henry Wilson    male  80.0      0   \n",
            "645                          Harper, Mr. Henry Sleeper    male  48.0      1   \n",
            "647                Simonius-Blumer, Col. Oberst Alfons    male  56.0      0   \n",
            "660                      Frauenthal, Dr. Henry William    male  50.0      2   \n",
            "707                  Calderhead, Mr. Edward Pennington    male  42.0      0   \n",
            "712                           Taylor, Mr. Elmer Zebley    male  48.0      1   \n",
            "765               Hogeboom, Mrs. John C (Anna Andrews)  female  51.0      1   \n",
            "779  Robert, Mrs. Edward Scott (Elisabeth Walton Mc...  female  43.0      0   \n",
            "796                        Leader, Dr. Alice (Farnham)  female  49.0      0   \n",
            "820  Hays, Mrs. Charles Melville (Clara Jennings Gr...  female  52.0      1   \n",
            "829          Stone, Mrs. George Nelson (Martha Evelyn)  female  62.0      0   \n",
            "856         Wick, Mrs. George Dennick (Mary Hitchcock)  female  45.0      1   \n",
            "857                             Daly, Mr. Peter Denis     male  51.0      0   \n",
            "862  Swift, Mrs. Frederick Joel (Margaret Welles Ba...  female  48.0      0   \n",
            "871   Beckwith, Mrs. Richard Leonard (Sallie Monypeny)  female  47.0      1   \n",
            "879      Potter, Mrs. Thomas Jr (Lily Alexenia Wilson)  female  56.0      0   \n",
            "\n",
            "     Parch    Ticket      Fare    Cabin Embarked  \n",
            "11       0    113783   26.5500     C103        S  \n",
            "52       0  PC 17572   76.7292      D33        C  \n",
            "187      0    111428   26.5500  Unknown        S  \n",
            "194      0  PC 17610   27.7208       B4        C  \n",
            "195      0  PC 17569  146.5208      B80        C  \n",
            "268      1  PC 17582  153.4625     C125        S  \n",
            "275      0     13502   77.9583       D7        S  \n",
            "299      1  PC 17558  247.5208  B58 B60        C  \n",
            "337      0     16966  134.5000      E40        C  \n",
            "366      0    110813   75.2500      D37        C  \n",
            "380      0  PC 17757  227.5250  Unknown        C  \n",
            "449      0    113786   30.5000     C104        S  \n",
            "453      0     17453   89.1042      C92        C  \n",
            "460      0     19952   26.5500      E12        S  \n",
            "496      0     36947   78.2667      D20        C  \n",
            "513      0  PC 17603   59.4000  Unknown        C  \n",
            "523      1    111361   57.9792      B18        C  \n",
            "556      0     11755   39.6000      A16        C  \n",
            "571      0     11769   51.4792     C101        S  \n",
            "587      1     13567   79.2000      B41        C  \n",
            "591      0     36947   78.2667      D20        C  \n",
            "599      0  PC 17485   56.9292      A20        C  \n",
            "621      0     11753   52.5542      D19        S  \n",
            "630      0     27042   30.0000      A23        S  \n",
            "645      0  PC 17572   76.7292      D33        C  \n",
            "647      0     13213   35.5000      A26        C  \n",
            "660      0  PC 17611  133.6500  Unknown        S  \n",
            "707      0  PC 17476   26.2875      E24        S  \n",
            "712      0     19996   52.0000     C126        S  \n",
            "765      0     13502   77.9583      D11        S  \n",
            "779      1     24160  211.3375       B3        S  \n",
            "796      0     17465   25.9292      D17        S  \n",
            "820      1     12749   93.5000      B69        S  \n",
            "829      0    113572   80.0000      B28        S  \n",
            "856      1     36928  164.8667  Unknown        S  \n",
            "857      0    113055   26.5500      E17        S  \n",
            "862      0     17466   25.9292      D17        S  \n",
            "871      1     11751   52.5542      D35        S  \n",
            "879      1     11767   83.1583      C50        C  \n"
          ]
        }
      ]
    },
    {
      "cell_type": "markdown",
      "source": [
        "## 11. Male passengers with fare > 100"
      ],
      "metadata": {
        "id": "TDL7pgHjnuCM"
      }
    },
    {
      "cell_type": "code",
      "source": [
        "rich_males = df[(df['Sex'] == 'male') & (df['Fare'] > 100)]\n",
        "print(\"Male passengers with fare > 100:\")\n",
        "print(rich_males)"
      ],
      "metadata": {
        "colab": {
          "base_uri": "https://localhost:8080/"
        },
        "id": "yAjGV2J6ltdc",
        "outputId": "3e985ad1-1996-4689-84ce-110f4656097a"
      },
      "execution_count": 33,
      "outputs": [
        {
          "output_type": "stream",
          "name": "stdout",
          "text": [
            "Male passengers with fare > 100:\n",
            "     PassengerId  Survived  Pclass  \\\n",
            "27            28         0       1   \n",
            "118          119         0       1   \n",
            "305          306         1       1   \n",
            "332          333         0       1   \n",
            "373          374         0       1   \n",
            "377          378         0       1   \n",
            "390          391         1       1   \n",
            "438          439         0       1   \n",
            "505          506         0       1   \n",
            "527          528         0       1   \n",
            "544          545         0       1   \n",
            "550          551         1       1   \n",
            "557          558         0       1   \n",
            "659          660         0       1   \n",
            "660          661         1       1   \n",
            "679          680         1       1   \n",
            "698          699         0       1   \n",
            "737          738         1       1   \n",
            "802          803         1       1   \n",
            "\n",
            "                                           Name   Sex        Age  SibSp  \\\n",
            "27               Fortune, Mr. Charles Alexander  male  19.000000      3   \n",
            "118                    Baxter, Mr. Quigg Edmond  male  24.000000      0   \n",
            "305              Allison, Master. Hudson Trevor  male   0.920000      1   \n",
            "332                   Graham, Mr. George Edward  male  38.000000      0   \n",
            "373                         Ringhini, Mr. Sante  male  22.000000      0   \n",
            "377                   Widener, Mr. Harry Elkins  male  27.000000      0   \n",
            "390                  Carter, Mr. William Ernest  male  36.000000      1   \n",
            "438                           Fortune, Mr. Mark  male  64.000000      1   \n",
            "505  Penasco y Castellana, Mr. Victor de Satode  male  18.000000      1   \n",
            "527                          Farthing, Mr. John  male  29.699118      0   \n",
            "544                  Douglas, Mr. Walter Donald  male  50.000000      1   \n",
            "550                 Thayer, Mr. John Borland Jr  male  17.000000      0   \n",
            "557                         Robbins, Mr. Victor  male  29.699118      0   \n",
            "659                  Newell, Mr. Arthur Webster  male  58.000000      0   \n",
            "660               Frauenthal, Dr. Henry William  male  50.000000      2   \n",
            "679          Cardeza, Mr. Thomas Drake Martinez  male  36.000000      0   \n",
            "698                    Thayer, Mr. John Borland  male  49.000000      1   \n",
            "737                      Lesurer, Mr. Gustave J  male  35.000000      0   \n",
            "802         Carter, Master. William Thornton II  male  11.000000      1   \n",
            "\n",
            "     Parch    Ticket      Fare        Cabin Embarked  \n",
            "27       2     19950  263.0000  C23 C25 C27        S  \n",
            "118      1  PC 17558  247.5208      B58 B60        C  \n",
            "305      2    113781  151.5500      C22 C26        S  \n",
            "332      1  PC 17582  153.4625          C91        S  \n",
            "373      0  PC 17760  135.6333      Unknown        C  \n",
            "377      2    113503  211.5000          C82        C  \n",
            "390      2    113760  120.0000      B96 B98        S  \n",
            "438      4     19950  263.0000  C23 C25 C27        S  \n",
            "505      0  PC 17758  108.9000          C65        C  \n",
            "527      0  PC 17483  221.7792          C95        S  \n",
            "544      0  PC 17761  106.4250          C86        C  \n",
            "550      2     17421  110.8833          C70        C  \n",
            "557      0  PC 17757  227.5250      Unknown        C  \n",
            "659      2     35273  113.2750          D48        C  \n",
            "660      0  PC 17611  133.6500      Unknown        S  \n",
            "679      1  PC 17755  512.3292  B51 B53 B55        C  \n",
            "698      1     17421  110.8833          C68        C  \n",
            "737      0  PC 17755  512.3292         B101        C  \n",
            "802      2    113760  120.0000      B96 B98        S  \n"
          ]
        }
      ]
    },
    {
      "cell_type": "markdown",
      "source": [
        "## 12. Embarked from C and in class 2"
      ],
      "metadata": {
        "id": "qvy-VUS5oFVU"
      }
    },
    {
      "cell_type": "code",
      "source": [
        "c_class2 = df[(df['Embarked'] == 'C') & (df['Pclass'] == 2)]\n",
        "print(\"Embarked C, Class 2:\")\n",
        "print(c_class2)"
      ],
      "metadata": {
        "colab": {
          "base_uri": "https://localhost:8080/"
        },
        "id": "JVsbDSd2lwaU",
        "outputId": "7fdfde9b-ea26-4032-8583-f39f4caa6201"
      },
      "execution_count": 34,
      "outputs": [
        {
          "output_type": "stream",
          "name": "stdout",
          "text": [
            "Embarked C, Class 2:\n",
            "     PassengerId  Survived  Pclass  \\\n",
            "9             10         1       2   \n",
            "43            44         1       2   \n",
            "122          123         0       2   \n",
            "135          136         0       2   \n",
            "181          182         0       2   \n",
            "292          293         0       2   \n",
            "308          309         0       2   \n",
            "361          362         0       2   \n",
            "389          390         1       2   \n",
            "473          474         1       2   \n",
            "547          548         1       2   \n",
            "608          609         1       2   \n",
            "685          686         0       2   \n",
            "817          818         0       2   \n",
            "827          828         1       2   \n",
            "866          867         1       2   \n",
            "874          875         1       2   \n",
            "\n",
            "                                                  Name     Sex        Age  \\\n",
            "9                  Nasser, Mrs. Nicholas (Adele Achem)  female  14.000000   \n",
            "43            Laroche, Miss. Simonne Marie Anne Andree  female   3.000000   \n",
            "122                               Nasser, Mr. Nicholas    male  32.500000   \n",
            "135                                 Richard, Mr. Emile    male  23.000000   \n",
            "181                                   Pernot, Mr. Rene    male  29.699118   \n",
            "292                             Levy, Mr. Rene Jacques    male  36.000000   \n",
            "308                                Abelson, Mr. Samuel    male  30.000000   \n",
            "361                          del Carlo, Mr. Sebastiano    male  29.000000   \n",
            "389                              Lehmann, Miss. Bertha  female  17.000000   \n",
            "473       Jerwan, Mrs. Amin S (Marie Marthe Thuillard)  female  23.000000   \n",
            "547                         Padro y Manent, Mr. Julian    male  29.699118   \n",
            "608  Laroche, Mrs. Joseph (Juliette Marie Louise La...  female  22.000000   \n",
            "685             Laroche, Mr. Joseph Philippe Lemercier    male  25.000000   \n",
            "817                                 Mallet, Mr. Albert    male  31.000000   \n",
            "827                              Mallet, Master. Andre    male   1.000000   \n",
            "866                       Duran y More, Miss. Asuncion  female  27.000000   \n",
            "874              Abelson, Mrs. Samuel (Hannah Wizosky)  female  28.000000   \n",
            "\n",
            "     SibSp  Parch           Ticket     Fare    Cabin Embarked  \n",
            "9        1      0           237736  30.0708  Unknown        C  \n",
            "43       1      2    SC/Paris 2123  41.5792  Unknown        C  \n",
            "122      1      0           237736  30.0708  Unknown        C  \n",
            "135      0      0    SC/PARIS 2133  15.0458  Unknown        C  \n",
            "181      0      0    SC/PARIS 2131  15.0500  Unknown        C  \n",
            "292      0      0    SC/Paris 2163  12.8750        D        C  \n",
            "308      1      0        P/PP 3381  24.0000  Unknown        C  \n",
            "361      1      0    SC/PARIS 2167  27.7208  Unknown        C  \n",
            "389      0      0          SC 1748  12.0000  Unknown        C  \n",
            "473      0      0  SC/AH Basle 541  13.7917        D        C  \n",
            "547      0      0    SC/PARIS 2146  13.8625  Unknown        C  \n",
            "608      1      2    SC/Paris 2123  41.5792  Unknown        C  \n",
            "685      1      2    SC/Paris 2123  41.5792  Unknown        C  \n",
            "817      1      1  S.C./PARIS 2079  37.0042  Unknown        C  \n",
            "827      0      2  S.C./PARIS 2079  37.0042  Unknown        C  \n",
            "866      1      0    SC/PARIS 2149  13.8583  Unknown        C  \n",
            "874      1      0        P/PP 3381  24.0000  Unknown        C  \n"
          ]
        }
      ]
    },
    {
      "cell_type": "markdown",
      "source": [
        "## 13. More than 2 siblings/spouses"
      ],
      "metadata": {
        "id": "hQmKy6kYoKZj"
      }
    },
    {
      "cell_type": "code",
      "source": [
        "large_family = df[df['SibSp'] > 2]\n",
        "print(\"More than 2 SibSp:\")\n",
        "print(large_family)"
      ],
      "metadata": {
        "colab": {
          "base_uri": "https://localhost:8080/"
        },
        "id": "OJcH3H3XlzGM",
        "outputId": "f7860b4e-b88d-4a06-d9d5-23e035b5c3b6"
      },
      "execution_count": 35,
      "outputs": [
        {
          "output_type": "stream",
          "name": "stdout",
          "text": [
            "More than 2 SibSp:\n",
            "     PassengerId  Survived  Pclass  \\\n",
            "7              8         0       3   \n",
            "16            17         0       3   \n",
            "24            25         0       3   \n",
            "27            28         0       1   \n",
            "50            51         0       3   \n",
            "59            60         0       3   \n",
            "63            64         0       3   \n",
            "68            69         1       3   \n",
            "71            72         0       3   \n",
            "85            86         1       3   \n",
            "88            89         1       1   \n",
            "119          120         0       3   \n",
            "159          160         0       3   \n",
            "164          165         0       3   \n",
            "171          172         0       3   \n",
            "176          177         0       3   \n",
            "180          181         0       3   \n",
            "182          183         0       3   \n",
            "201          202         0       3   \n",
            "229          230         0       3   \n",
            "233          234         1       3   \n",
            "261          262         1       3   \n",
            "266          267         0       3   \n",
            "278          279         0       3   \n",
            "324          325         0       3   \n",
            "341          342         1       1   \n",
            "374          375         0       3   \n",
            "386          387         0       3   \n",
            "409          410         0       3   \n",
            "480          481         0       3   \n",
            "485          486         0       3   \n",
            "541          542         0       3   \n",
            "542          543         0       3   \n",
            "634          635         0       3   \n",
            "642          643         0       3   \n",
            "683          684         0       3   \n",
            "686          687         0       3   \n",
            "726          727         1       2   \n",
            "787          788         0       3   \n",
            "792          793         0       3   \n",
            "813          814         0       3   \n",
            "819          820         0       3   \n",
            "824          825         0       3   \n",
            "846          847         0       3   \n",
            "850          851         0       3   \n",
            "863          864         0       3   \n",
            "\n",
            "                                                  Name     Sex        Age  \\\n",
            "7                       Palsson, Master. Gosta Leonard    male   2.000000   \n",
            "16                                Rice, Master. Eugene    male   2.000000   \n",
            "24                       Palsson, Miss. Torborg Danira  female   8.000000   \n",
            "27                      Fortune, Mr. Charles Alexander    male  19.000000   \n",
            "50                          Panula, Master. Juha Niilo    male   7.000000   \n",
            "59                  Goodwin, Master. William Frederick    male  11.000000   \n",
            "63                               Skoog, Master. Harald    male   4.000000   \n",
            "68                     Andersson, Miss. Erna Alexandra  female  17.000000   \n",
            "71                          Goodwin, Miss. Lillian Amy  female  16.000000   \n",
            "85   Backstrom, Mrs. Karl Alfred (Maria Mathilda Gu...  female  33.000000   \n",
            "88                          Fortune, Miss. Mabel Helen  female  23.000000   \n",
            "119                  Andersson, Miss. Ellis Anna Maria  female   2.000000   \n",
            "159                         Sage, Master. Thomas Henry    male  29.699118   \n",
            "164                       Panula, Master. Eino Viljami    male   1.000000   \n",
            "171                               Rice, Master. Arthur    male   4.000000   \n",
            "176                      Lefebre, Master. Henry Forbes    male  29.699118   \n",
            "180                       Sage, Miss. Constance Gladys  female  29.699118   \n",
            "182              Asplund, Master. Clarence Gustaf Hugo    male   9.000000   \n",
            "201                                Sage, Mr. Frederick    male  29.699118   \n",
            "229                            Lefebre, Miss. Mathilde  female  29.699118   \n",
            "233                     Asplund, Miss. Lillian Gertrud  female   5.000000   \n",
            "261                  Asplund, Master. Edvin Rojj Felix    male   3.000000   \n",
            "266                          Panula, Mr. Ernesti Arvid    male  16.000000   \n",
            "278                                 Rice, Master. Eric    male   7.000000   \n",
            "324                           Sage, Mr. George John Jr    male  29.699118   \n",
            "341                     Fortune, Miss. Alice Elizabeth  female  24.000000   \n",
            "374                         Palsson, Miss. Stina Viola  female   3.000000   \n",
            "386                    Goodwin, Master. Sidney Leonard    male   1.000000   \n",
            "409                                 Lefebre, Miss. Ida  female  29.699118   \n",
            "480                     Goodwin, Master. Harold Victor    male   9.000000   \n",
            "485                             Lefebre, Miss. Jeannie  female  29.699118   \n",
            "541               Andersson, Miss. Ingeborg Constanzia  female   9.000000   \n",
            "542                  Andersson, Miss. Sigrid Elisabeth  female  11.000000   \n",
            "634                                 Skoog, Miss. Mabel  female   9.000000   \n",
            "642                      Skoog, Miss. Margit Elizabeth  female   2.000000   \n",
            "683                        Goodwin, Mr. Charles Edward    male  14.000000   \n",
            "686                           Panula, Mr. Jaako Arnold    male  14.000000   \n",
            "726        Renouf, Mrs. Peter Henry (Lillian Jefferys)  female  30.000000   \n",
            "787                          Rice, Master. George Hugh    male   8.000000   \n",
            "792                            Sage, Miss. Stella Anna  female  29.699118   \n",
            "813                 Andersson, Miss. Ebba Iris Alfrida  female   6.000000   \n",
            "819                       Skoog, Master. Karl Thorsten    male  10.000000   \n",
            "824                       Panula, Master. Urho Abraham    male   2.000000   \n",
            "846                           Sage, Mr. Douglas Bullen    male  29.699118   \n",
            "850            Andersson, Master. Sigvard Harald Elias    male   4.000000   \n",
            "863                  Sage, Miss. Dorothy Edith \"Dolly\"  female  29.699118   \n",
            "\n",
            "     SibSp  Parch    Ticket      Fare        Cabin Embarked  \n",
            "7        3      1    349909   21.0750      Unknown        S  \n",
            "16       4      1    382652   29.1250      Unknown        Q  \n",
            "24       3      1    349909   21.0750      Unknown        S  \n",
            "27       3      2     19950  263.0000  C23 C25 C27        S  \n",
            "50       4      1   3101295   39.6875      Unknown        S  \n",
            "59       5      2   CA 2144   46.9000      Unknown        S  \n",
            "63       3      2    347088   27.9000      Unknown        S  \n",
            "68       4      2   3101281    7.9250      Unknown        S  \n",
            "71       5      2   CA 2144   46.9000      Unknown        S  \n",
            "85       3      0   3101278   15.8500      Unknown        S  \n",
            "88       3      2     19950  263.0000  C23 C25 C27        S  \n",
            "119      4      2    347082   31.2750      Unknown        S  \n",
            "159      8      2  CA. 2343   69.5500      Unknown        S  \n",
            "164      4      1   3101295   39.6875      Unknown        S  \n",
            "171      4      1    382652   29.1250      Unknown        Q  \n",
            "176      3      1      4133   25.4667      Unknown        S  \n",
            "180      8      2  CA. 2343   69.5500      Unknown        S  \n",
            "182      4      2    347077   31.3875      Unknown        S  \n",
            "201      8      2  CA. 2343   69.5500      Unknown        S  \n",
            "229      3      1      4133   25.4667      Unknown        S  \n",
            "233      4      2    347077   31.3875      Unknown        S  \n",
            "261      4      2    347077   31.3875      Unknown        S  \n",
            "266      4      1   3101295   39.6875      Unknown        S  \n",
            "278      4      1    382652   29.1250      Unknown        Q  \n",
            "324      8      2  CA. 2343   69.5500      Unknown        S  \n",
            "341      3      2     19950  263.0000  C23 C25 C27        S  \n",
            "374      3      1    349909   21.0750      Unknown        S  \n",
            "386      5      2   CA 2144   46.9000      Unknown        S  \n",
            "409      3      1      4133   25.4667      Unknown        S  \n",
            "480      5      2   CA 2144   46.9000      Unknown        S  \n",
            "485      3      1      4133   25.4667      Unknown        S  \n",
            "541      4      2    347082   31.2750      Unknown        S  \n",
            "542      4      2    347082   31.2750      Unknown        S  \n",
            "634      3      2    347088   27.9000      Unknown        S  \n",
            "642      3      2    347088   27.9000      Unknown        S  \n",
            "683      5      2   CA 2144   46.9000      Unknown        S  \n",
            "686      4      1   3101295   39.6875      Unknown        S  \n",
            "726      3      0     31027   21.0000      Unknown        S  \n",
            "787      4      1    382652   29.1250      Unknown        Q  \n",
            "792      8      2  CA. 2343   69.5500      Unknown        S  \n",
            "813      4      2    347082   31.2750      Unknown        S  \n",
            "819      3      2    347088   27.9000      Unknown        S  \n",
            "824      4      1   3101295   39.6875      Unknown        S  \n",
            "846      8      2  CA. 2343   69.5500      Unknown        S  \n",
            "850      4      2    347082   31.2750      Unknown        S  \n",
            "863      8      2  CA. 2343   69.5500      Unknown        S  \n"
          ]
        }
      ]
    },
    {
      "cell_type": "markdown",
      "source": [
        "## 14. Did not survive, no family aboard"
      ],
      "metadata": {
        "id": "5hI0XtZeoSg1"
      }
    },
    {
      "cell_type": "code",
      "source": [
        "no_family_no_survive = df[(df['Survived'] == 0) & (df['SibSp'] == 0) & (df['Parch'] == 0)]\n",
        "print(\"Died and no family:\")\n",
        "print(no_family_no_survive)"
      ],
      "metadata": {
        "colab": {
          "base_uri": "https://localhost:8080/"
        },
        "id": "C3LcyAJEl1ss",
        "outputId": "e60a4cc7-2868-4b76-ff02-5545ec847d85"
      },
      "execution_count": 36,
      "outputs": [
        {
          "output_type": "stream",
          "name": "stdout",
          "text": [
            "Died and no family:\n",
            "     PassengerId  Survived  Pclass                                  Name  \\\n",
            "4              5         0       3              Allen, Mr. William Henry   \n",
            "5              6         0       3                      Moran, Mr. James   \n",
            "6              7         0       1               McCarthy, Mr. Timothy J   \n",
            "12            13         0       3        Saundercock, Mr. William Henry   \n",
            "14            15         0       3  Vestrom, Miss. Hulda Amanda Adolfina   \n",
            "..           ...       ...     ...                                   ...   \n",
            "882          883         0       3          Dahlberg, Miss. Gerda Ulrika   \n",
            "883          884         0       2         Banfield, Mr. Frederick James   \n",
            "884          885         0       3                Sutehall, Mr. Henry Jr   \n",
            "886          887         0       2                 Montvila, Rev. Juozas   \n",
            "890          891         0       3                   Dooley, Mr. Patrick   \n",
            "\n",
            "        Sex        Age  SibSp  Parch            Ticket     Fare    Cabin  \\\n",
            "4      male  35.000000      0      0            373450   8.0500  Unknown   \n",
            "5      male  29.699118      0      0            330877   8.4583  Unknown   \n",
            "6      male  54.000000      0      0             17463  51.8625      E46   \n",
            "12     male  20.000000      0      0         A/5. 2151   8.0500  Unknown   \n",
            "14   female  14.000000      0      0            350406   7.8542  Unknown   \n",
            "..      ...        ...    ...    ...               ...      ...      ...   \n",
            "882  female  22.000000      0      0              7552  10.5167  Unknown   \n",
            "883    male  28.000000      0      0  C.A./SOTON 34068  10.5000  Unknown   \n",
            "884    male  25.000000      0      0   SOTON/OQ 392076   7.0500  Unknown   \n",
            "886    male  27.000000      0      0            211536  13.0000  Unknown   \n",
            "890    male  32.000000      0      0            370376   7.7500  Unknown   \n",
            "\n",
            "    Embarked  \n",
            "4          S  \n",
            "5          Q  \n",
            "6          S  \n",
            "12         S  \n",
            "14         S  \n",
            "..       ...  \n",
            "882        S  \n",
            "883        S  \n",
            "884        S  \n",
            "886        S  \n",
            "890        Q  \n",
            "\n",
            "[374 rows x 12 columns]\n"
          ]
        }
      ]
    },
    {
      "cell_type": "markdown",
      "source": [
        "## 15. Top 5 oldest passengers who survived"
      ],
      "metadata": {
        "id": "wMYkAXkSoV0l"
      }
    },
    {
      "cell_type": "code",
      "source": [
        "oldest_survivors = df[df['Survived'] == 1].sort_values(by='Age', ascending=False).head(5)\n",
        "print(\"Top 5 oldest survivors:\")\n",
        "print(oldest_survivors)"
      ],
      "metadata": {
        "colab": {
          "base_uri": "https://localhost:8080/"
        },
        "id": "YwRdjTE0l7S7",
        "outputId": "0b9c9ac5-1431-46dc-be9f-9e63a273ad39"
      },
      "execution_count": 37,
      "outputs": [
        {
          "output_type": "stream",
          "name": "stdout",
          "text": [
            "Top 5 oldest survivors:\n",
            "     PassengerId  Survived  Pclass                                       Name  \\\n",
            "630          631         1       1       Barkworth, Mr. Algernon Henry Wilson   \n",
            "275          276         1       1          Andrews, Miss. Kornelia Theodosia   \n",
            "483          484         1       3                     Turkula, Mrs. (Hedwig)   \n",
            "570          571         1       2                         Harris, Mr. George   \n",
            "829          830         1       1  Stone, Mrs. George Nelson (Martha Evelyn)   \n",
            "\n",
            "        Sex   Age  SibSp  Parch       Ticket     Fare    Cabin Embarked  \n",
            "630    male  80.0      0      0        27042  30.0000      A23        S  \n",
            "275  female  63.0      1      0        13502  77.9583       D7        S  \n",
            "483  female  63.0      0      0         4134   9.5875  Unknown        S  \n",
            "570    male  62.0      0      0  S.W./PP 752  10.5000  Unknown        S  \n",
            "829  female  62.0      0      0       113572  80.0000      B28        S  \n"
          ]
        }
      ]
    },
    {
      "cell_type": "markdown",
      "source": [
        "## 16. Passengers who paid zero fare"
      ],
      "metadata": {
        "id": "ISLw7mIfoZiF"
      }
    },
    {
      "cell_type": "code",
      "source": [
        "free_passengers = df[df['Fare'] == 0]\n",
        "print(\"Passengers who paid 0 fare:\")\n",
        "print(free_passengers)"
      ],
      "metadata": {
        "colab": {
          "base_uri": "https://localhost:8080/"
        },
        "id": "nB0qQe7Yl96k",
        "outputId": "3bb15502-0041-4acb-f1dc-92ed8156f47c"
      },
      "execution_count": 38,
      "outputs": [
        {
          "output_type": "stream",
          "name": "stdout",
          "text": [
            "Passengers who paid 0 fare:\n",
            "     PassengerId  Survived  Pclass                              Name   Sex  \\\n",
            "179          180         0       3               Leonard, Mr. Lionel  male   \n",
            "263          264         0       1             Harrison, Mr. William  male   \n",
            "271          272         1       3      Tornquist, Mr. William Henry  male   \n",
            "277          278         0       2       Parkes, Mr. Francis \"Frank\"  male   \n",
            "302          303         0       3   Johnson, Mr. William Cahoone Jr  male   \n",
            "413          414         0       2    Cunningham, Mr. Alfred Fleming  male   \n",
            "466          467         0       2             Campbell, Mr. William  male   \n",
            "481          482         0       2  Frost, Mr. Anthony Wood \"Archie\"  male   \n",
            "597          598         0       3               Johnson, Mr. Alfred  male   \n",
            "633          634         0       1     Parr, Mr. William Henry Marsh  male   \n",
            "674          675         0       2        Watson, Mr. Ennis Hastings  male   \n",
            "732          733         0       2              Knight, Mr. Robert J  male   \n",
            "806          807         0       1            Andrews, Mr. Thomas Jr  male   \n",
            "815          816         0       1                  Fry, Mr. Richard  male   \n",
            "822          823         0       1   Reuchlin, Jonkheer. John George  male   \n",
            "\n",
            "           Age  SibSp  Parch  Ticket  Fare    Cabin Embarked  \n",
            "179  36.000000      0      0    LINE   0.0  Unknown        S  \n",
            "263  40.000000      0      0  112059   0.0      B94        S  \n",
            "271  25.000000      0      0    LINE   0.0  Unknown        S  \n",
            "277  29.699118      0      0  239853   0.0  Unknown        S  \n",
            "302  19.000000      0      0    LINE   0.0  Unknown        S  \n",
            "413  29.699118      0      0  239853   0.0  Unknown        S  \n",
            "466  29.699118      0      0  239853   0.0  Unknown        S  \n",
            "481  29.699118      0      0  239854   0.0  Unknown        S  \n",
            "597  49.000000      0      0    LINE   0.0  Unknown        S  \n",
            "633  29.699118      0      0  112052   0.0  Unknown        S  \n",
            "674  29.699118      0      0  239856   0.0  Unknown        S  \n",
            "732  29.699118      0      0  239855   0.0  Unknown        S  \n",
            "806  39.000000      0      0  112050   0.0      A36        S  \n",
            "815  29.699118      0      0  112058   0.0     B102        S  \n",
            "822  38.000000      0      0   19972   0.0  Unknown        S  \n"
          ]
        }
      ]
    },
    {
      "cell_type": "markdown",
      "source": [
        "## 17. Train-test split"
      ],
      "metadata": {
        "id": "goyrqWCFodME"
      }
    },
    {
      "cell_type": "code",
      "source": [
        "train_set, test_set = train_test_split(df, test_size=0.2, random_state=42)\n",
        "print(\"Training set size:\", train_set.shape)\n",
        "print(\"Testing set size:\", test_set.shape)"
      ],
      "metadata": {
        "colab": {
          "base_uri": "https://localhost:8080/"
        },
        "id": "yQunKcJomC0U",
        "outputId": "46a67fb7-de63-40d8-c00e-65ba0991197f"
      },
      "execution_count": 39,
      "outputs": [
        {
          "output_type": "stream",
          "name": "stdout",
          "text": [
            "Training set size: (712, 12)\n",
            "Testing set size: (179, 12)\n"
          ]
        }
      ]
    },
    {
      "cell_type": "code",
      "source": [],
      "metadata": {
        "id": "GIo6lCBCmEkM"
      },
      "execution_count": 39,
      "outputs": []
    }
  ]
}